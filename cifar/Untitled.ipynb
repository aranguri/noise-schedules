{
 "cells": [
  {
   "cell_type": "code",
   "execution_count": 1,
   "id": "309ea65c-5f72-4e64-8d80-d0bf066fb40f",
   "metadata": {
    "scrolled": true
   },
   "outputs": [
    {
     "name": "stderr",
     "output_type": "stream",
     "text": [
      "/ext3/miniconda3/lib/python3.12/site-packages/torch/utils/cpp_extension.py:1965: UserWarning: TORCH_CUDA_ARCH_LIST is not set, all archs for visible cards are included for compilation. \n",
      "If this is not desired, please set os.environ['TORCH_CUDA_ARCH_LIST'].\n",
      "  warnings.warn(\n",
      "Using /home/sa7270/.cache/torch_extensions/py312_cu121 as PyTorch extensions root...\n",
      "Detected CUDA files, patching ldflags\n",
      "Emitting ninja build file /home/sa7270/.cache/torch_extensions/py312_cu121/upfirdn2d/build.ninja...\n",
      "/ext3/miniconda3/lib/python3.12/site-packages/torch/utils/cpp_extension.py:1965: UserWarning: TORCH_CUDA_ARCH_LIST is not set, all archs for visible cards are included for compilation. \n",
      "If this is not desired, please set os.environ['TORCH_CUDA_ARCH_LIST'].\n",
      "  warnings.warn(\n",
      "Building extension module upfirdn2d...\n",
      "Allowing ninja to set a default number of workers... (overridable by setting the environment variable MAX_JOBS=N)\n"
     ]
    },
    {
     "name": "stdout",
     "output_type": "stream",
     "text": [
      "[1/3] c++ -MMD -MF upfirdn2d.o.d -DTORCH_EXTENSION_NAME=upfirdn2d -DTORCH_API_INCLUDE_EXTENSION_H -DPYBIND11_COMPILER_TYPE=\\\"_gcc\\\" -DPYBIND11_STDLIB=\\\"_libstdcpp\\\" -DPYBIND11_BUILD_ABI=\\\"_cxxabi1011\\\" -isystem /ext3/miniconda3/lib/python3.12/site-packages/torch/include -isystem /ext3/miniconda3/lib/python3.12/site-packages/torch/include/torch/csrc/api/include -isystem /ext3/miniconda3/lib/python3.12/site-packages/torch/include/TH -isystem /ext3/miniconda3/lib/python3.12/site-packages/torch/include/THC -isystem /usr/local/cuda/include -isystem /ext3/miniconda3/include/python3.12 -D_GLIBCXX_USE_CXX11_ABI=0 -fPIC -std=c++17 -c /scratch/sa7270/env2/score6/op/upfirdn2d.cpp -o upfirdn2d.o \n",
      "In file included from /ext3/miniconda3/lib/python3.12/site-packages/torch/include/c10/util/Exception.h:5,\n",
      "                 from /ext3/miniconda3/lib/python3.12/site-packages/torch/include/c10/core/Device.h:5,\n",
      "                 from /ext3/miniconda3/lib/python3.12/site-packages/torch/include/ATen/core/TensorBody.h:11,\n",
      "                 from /ext3/miniconda3/lib/python3.12/site-packages/torch/include/ATen/core/Tensor.h:3,\n",
      "                 from /ext3/miniconda3/lib/python3.12/site-packages/torch/include/ATen/Tensor.h:3,\n",
      "                 from /ext3/miniconda3/lib/python3.12/site-packages/torch/include/torch/csrc/autograd/function_hook.h:3,\n",
      "                 from /ext3/miniconda3/lib/python3.12/site-packages/torch/include/torch/csrc/autograd/cpp_hook.h:2,\n",
      "                 from /ext3/miniconda3/lib/python3.12/site-packages/torch/include/torch/csrc/autograd/variable.h:6,\n",
      "                 from /ext3/miniconda3/lib/python3.12/site-packages/torch/include/torch/csrc/autograd/autograd.h:3,\n",
      "                 from /ext3/miniconda3/lib/python3.12/site-packages/torch/include/torch/csrc/api/include/torch/autograd.h:3,\n",
      "                 from /ext3/miniconda3/lib/python3.12/site-packages/torch/include/torch/csrc/api/include/torch/all.h:7,\n",
      "                 from /ext3/miniconda3/lib/python3.12/site-packages/torch/include/torch/extension.h:5,\n",
      "                 from /scratch/sa7270/env2/score6/op/upfirdn2d.cpp:1:\n",
      "/scratch/sa7270/env2/score6/op/upfirdn2d.cpp: In function 'at::Tensor upfirdn2d(const at::Tensor&, const at::Tensor&, int, int, int, int, int, int, int, int)':\n",
      "/scratch/sa7270/env2/score6/op/upfirdn2d.cpp:8:41: warning: 'at::DeprecatedTypeProperties& at::Tensor::type() const' is deprecated: Tensor.type() is deprecated. Instead use Tensor.options(), which in many cases (e.g. in a constructor) is a drop-in replacement. If you were using data from type(), that is now available from Tensor itself, so instead of tensor.type().scalar_type(), use tensor.scalar_type() instead and instead of tensor.type().backend() use tensor.device(). [-Wdeprecated-declarations]\n",
      "    8 | #define CHECK_CUDA(x) TORCH_CHECK(x.type().is_cuda(), #x \" must be a CUDA tensor\")\n",
      "      |                                         ^\n",
      "/scratch/sa7270/env2/score6/op/upfirdn2d.cpp:15:5: note: in expansion of macro 'CHECK_CUDA'\n",
      "   15 |     CHECK_CUDA(input);\n",
      "      |     ^~~~~~~~~~\n",
      "In file included from /ext3/miniconda3/lib/python3.12/site-packages/torch/include/ATen/core/Tensor.h:3,\n",
      "                 from /ext3/miniconda3/lib/python3.12/site-packages/torch/include/ATen/Tensor.h:3,\n",
      "                 from /ext3/miniconda3/lib/python3.12/site-packages/torch/include/torch/csrc/autograd/function_hook.h:3,\n",
      "                 from /ext3/miniconda3/lib/python3.12/site-packages/torch/include/torch/csrc/autograd/cpp_hook.h:2,\n",
      "                 from /ext3/miniconda3/lib/python3.12/site-packages/torch/include/torch/csrc/autograd/variable.h:6,\n",
      "                 from /ext3/miniconda3/lib/python3.12/site-packages/torch/include/torch/csrc/autograd/autograd.h:3,\n",
      "                 from /ext3/miniconda3/lib/python3.12/site-packages/torch/include/torch/csrc/api/include/torch/autograd.h:3,\n",
      "                 from /ext3/miniconda3/lib/python3.12/site-packages/torch/include/torch/csrc/api/include/torch/all.h:7,\n",
      "                 from /ext3/miniconda3/lib/python3.12/site-packages/torch/include/torch/extension.h:5,\n",
      "                 from /scratch/sa7270/env2/score6/op/upfirdn2d.cpp:1:\n",
      "/ext3/miniconda3/lib/python3.12/site-packages/torch/include/ATen/core/TensorBody.h:225:30: note: declared here\n",
      "  225 |   DeprecatedTypeProperties & type() const {\n",
      "      |                              ^~~~\n",
      "In file included from /ext3/miniconda3/lib/python3.12/site-packages/torch/include/c10/util/Exception.h:5,\n",
      "                 from /ext3/miniconda3/lib/python3.12/site-packages/torch/include/c10/core/Device.h:5,\n",
      "                 from /ext3/miniconda3/lib/python3.12/site-packages/torch/include/ATen/core/TensorBody.h:11,\n",
      "                 from /ext3/miniconda3/lib/python3.12/site-packages/torch/include/ATen/core/Tensor.h:3,\n",
      "                 from /ext3/miniconda3/lib/python3.12/site-packages/torch/include/ATen/Tensor.h:3,\n",
      "                 from /ext3/miniconda3/lib/python3.12/site-packages/torch/include/torch/csrc/autograd/function_hook.h:3,\n",
      "                 from /ext3/miniconda3/lib/python3.12/site-packages/torch/include/torch/csrc/autograd/cpp_hook.h:2,\n",
      "                 from /ext3/miniconda3/lib/python3.12/site-packages/torch/include/torch/csrc/autograd/variable.h:6,\n",
      "                 from /ext3/miniconda3/lib/python3.12/site-packages/torch/include/torch/csrc/autograd/autograd.h:3,\n",
      "                 from /ext3/miniconda3/lib/python3.12/site-packages/torch/include/torch/csrc/api/include/torch/autograd.h:3,\n",
      "                 from /ext3/miniconda3/lib/python3.12/site-packages/torch/include/torch/csrc/api/include/torch/all.h:7,\n",
      "                 from /ext3/miniconda3/lib/python3.12/site-packages/torch/include/torch/extension.h:5,\n",
      "                 from /scratch/sa7270/env2/score6/op/upfirdn2d.cpp:1:\n",
      "/scratch/sa7270/env2/score6/op/upfirdn2d.cpp:8:41: warning: 'at::DeprecatedTypeProperties& at::Tensor::type() const' is deprecated: Tensor.type() is deprecated. Instead use Tensor.options(), which in many cases (e.g. in a constructor) is a drop-in replacement. If you were using data from type(), that is now available from Tensor itself, so instead of tensor.type().scalar_type(), use tensor.scalar_type() instead and instead of tensor.type().backend() use tensor.device(). [-Wdeprecated-declarations]\n",
      "    8 | #define CHECK_CUDA(x) TORCH_CHECK(x.type().is_cuda(), #x \" must be a CUDA tensor\")\n",
      "      |                                         ^\n",
      "/scratch/sa7270/env2/score6/op/upfirdn2d.cpp:16:5: note: in expansion of macro 'CHECK_CUDA'\n",
      "   16 |     CHECK_CUDA(kernel);\n",
      "      |     ^~~~~~~~~~\n",
      "In file included from /ext3/miniconda3/lib/python3.12/site-packages/torch/include/ATen/core/Tensor.h:3,\n",
      "                 from /ext3/miniconda3/lib/python3.12/site-packages/torch/include/ATen/Tensor.h:3,\n",
      "                 from /ext3/miniconda3/lib/python3.12/site-packages/torch/include/torch/csrc/autograd/function_hook.h:3,\n",
      "                 from /ext3/miniconda3/lib/python3.12/site-packages/torch/include/torch/csrc/autograd/cpp_hook.h:2,\n",
      "                 from /ext3/miniconda3/lib/python3.12/site-packages/torch/include/torch/csrc/autograd/variable.h:6,\n",
      "                 from /ext3/miniconda3/lib/python3.12/site-packages/torch/include/torch/csrc/autograd/autograd.h:3,\n",
      "                 from /ext3/miniconda3/lib/python3.12/site-packages/torch/include/torch/csrc/api/include/torch/autograd.h:3,\n",
      "                 from /ext3/miniconda3/lib/python3.12/site-packages/torch/include/torch/csrc/api/include/torch/all.h:7,\n",
      "                 from /ext3/miniconda3/lib/python3.12/site-packages/torch/include/torch/extension.h:5,\n",
      "                 from /scratch/sa7270/env2/score6/op/upfirdn2d.cpp:1:\n",
      "/ext3/miniconda3/lib/python3.12/site-packages/torch/include/ATen/core/TensorBody.h:225:30: note: declared here\n",
      "  225 |   DeprecatedTypeProperties & type() const {\n",
      "      |                              ^~~~\n",
      "[2/3] /usr/local/cuda/bin/nvcc --generate-dependencies-with-compile --dependency-output upfirdn2d_kernel.cuda.o.d -DTORCH_EXTENSION_NAME=upfirdn2d -DTORCH_API_INCLUDE_EXTENSION_H -DPYBIND11_COMPILER_TYPE=\\\"_gcc\\\" -DPYBIND11_STDLIB=\\\"_libstdcpp\\\" -DPYBIND11_BUILD_ABI=\\\"_cxxabi1011\\\" -isystem /ext3/miniconda3/lib/python3.12/site-packages/torch/include -isystem /ext3/miniconda3/lib/python3.12/site-packages/torch/include/torch/csrc/api/include -isystem /ext3/miniconda3/lib/python3.12/site-packages/torch/include/TH -isystem /ext3/miniconda3/lib/python3.12/site-packages/torch/include/THC -isystem /usr/local/cuda/include -isystem /ext3/miniconda3/include/python3.12 -D_GLIBCXX_USE_CXX11_ABI=0 -D__CUDA_NO_HALF_OPERATORS__ -D__CUDA_NO_HALF_CONVERSIONS__ -D__CUDA_NO_BFLOAT16_CONVERSIONS__ -D__CUDA_NO_HALF2_OPERATORS__ --expt-relaxed-constexpr -gencode=arch=compute_75,code=compute_75 -gencode=arch=compute_75,code=sm_75 --compiler-options '-fPIC' -std=c++17 -c /scratch/sa7270/env2/score6/op/upfirdn2d_kernel.cu -o upfirdn2d_kernel.cuda.o \n",
      "[3/3] c++ upfirdn2d.o upfirdn2d_kernel.cuda.o -shared -L/ext3/miniconda3/lib/python3.12/site-packages/torch/lib -lc10 -lc10_cuda -ltorch_cpu -ltorch_cuda -ltorch -ltorch_python -L/usr/local/cuda/lib64 -lcudart -o upfirdn2d.so\n"
     ]
    },
    {
     "name": "stderr",
     "output_type": "stream",
     "text": [
      "Loading extension module upfirdn2d...\n"
     ]
    }
   ],
   "source": [
    "from models import up_or_down_sampling"
   ]
  },
  {
   "cell_type": "code",
   "execution_count": 2,
   "id": "8deaf523-ee08-4ec4-91a5-5fbb2abc884e",
   "metadata": {},
   "outputs": [],
   "source": [
    "import os\n",
    "\n",
    "import torch\n",
    "from torch.nn import functional as F\n",
    "from torch.autograd import Function\n",
    "from torch.utils.cpp_extension import load"
   ]
  },
  {
   "cell_type": "code",
   "execution_count": 3,
   "id": "afb637bb-24e7-48fe-ac0f-8d60089140c9",
   "metadata": {},
   "outputs": [
    {
     "ename": "NameError",
     "evalue": "name '__file__' is not defined",
     "output_type": "error",
     "traceback": [
      "\u001b[0;31m---------------------------------------------------------------------------\u001b[0m",
      "\u001b[0;31mNameError\u001b[0m                                 Traceback (most recent call last)",
      "Cell \u001b[0;32mIn[3], line 1\u001b[0m\n\u001b[0;32m----> 1\u001b[0m module_path \u001b[38;5;241m=\u001b[39m os\u001b[38;5;241m.\u001b[39mpath\u001b[38;5;241m.\u001b[39mdirname(\u001b[38;5;18m__file__\u001b[39m)\n\u001b[1;32m      2\u001b[0m upfirdn2d_op \u001b[38;5;241m=\u001b[39m load(\n\u001b[1;32m      3\u001b[0m     \u001b[38;5;124m\"\u001b[39m\u001b[38;5;124mupfirdn2d\u001b[39m\u001b[38;5;124m\"\u001b[39m,\n\u001b[1;32m      4\u001b[0m     sources\u001b[38;5;241m=\u001b[39m[\n\u001b[0;32m   (...)\u001b[0m\n\u001b[1;32m      7\u001b[0m     ],\n\u001b[1;32m      8\u001b[0m )\n",
      "\u001b[0;31mNameError\u001b[0m: name '__file__' is not defined"
     ]
    }
   ],
   "source": [
    "from"
   ]
  },
  {
   "cell_type": "code",
   "execution_count": null,
   "id": "f5b35f96-34af-4ed7-92da-00b7374d4635",
   "metadata": {},
   "outputs": [],
   "source": []
  }
 ],
 "metadata": {
  "kernelspec": {
   "display_name": "Python 3 (ipykernel)",
   "language": "python",
   "name": "python3"
  },
  "language_info": {
   "codemirror_mode": {
    "name": "ipython",
    "version": 3
   },
   "file_extension": ".py",
   "mimetype": "text/x-python",
   "name": "python",
   "nbconvert_exporter": "python",
   "pygments_lexer": "ipython3",
   "version": "3.12.4"
  }
 },
 "nbformat": 4,
 "nbformat_minor": 5
}
